{
 "cells": [
  {
   "cell_type": "code",
   "execution_count": null,
   "id": "f9eeb22c",
   "metadata": {},
   "outputs": [],
   "source": [
    "from splinter import Browser\n",
    "from bs4 import BeautifulSoup as bs\n",
    "from webdriver_manager.chrome import ChromeDriverManager\n",
    "import pandas as pd"
   ]
  },
  {
   "cell_type": "code",
   "execution_count": null,
   "id": "6e36e684",
   "metadata": {},
   "outputs": [],
   "source": [
    "class mars_scrape():\n",
    "    def __init__(self):\n",
    "        print('init')"
   ]
  },
  {
   "cell_type": "code",
   "execution_count": null,
   "id": "5d891ebe",
   "metadata": {},
   "outputs": [],
   "source": [
    "def scrape_news(self):\n",
    "    executable_path = {'executable_path': ChromeDriverManager().install()}\n",
    "    browser = Browser('chrome', **executable_path, headless=False)\n",
    "    url = \"https://redplanetscience.com/\"\n",
    "    browser.visit(url)\n",
    "    html = browser.html\n",
    "    soup = bs(html, \"html.parser\")\n",
    "    first_title = soup.find('div', class_='content_title').text\n",
    "    first_paragraph = soup.find('div', class_='article_teaser_body').text\n",
    "    browser.quit()\n",
    "    return first_title, first_paragraph"
   ]
  },
  {
   "cell_type": "code",
   "execution_count": null,
   "id": "2e6cb993",
   "metadata": {},
   "outputs": [],
   "source": [
    "def scrape_image(self):\n",
    "    executable_path = {'executable_path': ChromeDriverManager().install()}\n",
    "    browser = Browser('chrome', **executable_path, headless=False)\n",
    "    url = \"https://spaceimages-mars.com/\"\n",
    "    browser.visit(url)\n",
    "    html = browser.html\n",
    "    soup = bs(html, \"html.parser\")\n",
    "    img = soup.find('img', class_='headerimage fade-in')['src']\n",
    "    browser.quit()\n",
    "    img_url = url + img\n",
    "    return img_url"
   ]
  },
  {
   "cell_type": "code",
   "execution_count": null,
   "id": "c6b0d07e",
   "metadata": {},
   "outputs": [],
   "source": [
    "def scrape_table(self):\n",
    "    tables = pd.read_html('https://galaxyfacts-mars.com')\n",
    "    desired_table = tables[0]\n",
    "    html = desired_table.to_html(index=False)\n",
    "    return html"
   ]
  },
  {
   "cell_type": "code",
   "execution_count": null,
   "id": "a20488a0",
   "metadata": {},
   "outputs": [],
   "source": [
    "def scrape_hemispheres(self, hemisphere):\n",
    "    executable_path = {'executable_path': ChromeDriverManager().install()}\n",
    "    browser = Browser('chrome', **executable_path, headless=False)\n",
    "    base_url = \"https://marshemispheres.com/\"\n",
    "    url = base_url+hemisphere\n",
    "    browser.visit(url)\n",
    "    html = browser.html\n",
    "    soup = bs(html, \"html.parser\")\n",
    "    images = soup.find_all('a')\n",
    "    img = ''\n",
    "    for info in images:\n",
    "        if info.text == 'Original':\n",
    "            img = info['href']\n",
    "    text = soup.find('div', class_='cover')\n",
    "    desired_text = text.h2.text\n",
    "    title_text = desired_text.split()\n",
    "    title = title_text[0]\n",
    "    img_url = base_url + img\n",
    "    browser.quit()\n",
    "    return title, img_url"
   ]
  },
  {
   "cell_type": "code",
   "execution_count": null,
   "id": "6e772da0",
   "metadata": {},
   "outputs": [],
   "source": [
    "def all_hemispheres(self):\n",
    "    url_list = ['cerberus.html', 'schiaparelli.html', 'syrtis.html','valles.html']\n",
    "    all_images = {}\n",
    "    for url in url_list:\n",
    "        title, img_url = self.scrape_hemispheres(url)\n",
    "        all_images[title] = img_url\n",
    "    return all_images"
   ]
  },
  {
   "cell_type": "code",
   "execution_count": null,
   "id": "5fe87609",
   "metadata": {},
   "outputs": [],
   "source": [
    "def scrape(self):\n",
    "    all_info = {}\n",
    "    title, paragraph = self.scrape_news()\n",
    "    img_url = self.scrape_image()\n",
    "    table = self.scrape_table()\n",
    "    hemispheres = self.all_hemispheres()\n",
    "    all_info['title'] = title\n",
    "    all_info['paragraph'] = paragraph\n",
    "    all_info['img_url'] = img_url\n",
    "    all_info['table'] = table\n",
    "    all_info['hemispheres'] = hemispheres\n",
    "    return all_info"
   ]
  }
 ],
 "metadata": {
  "kernelspec": {
   "display_name": "Python 3 (ipykernel)",
   "language": "python",
   "name": "python3"
  },
  "language_info": {
   "codemirror_mode": {
    "name": "ipython",
    "version": 3
   },
   "file_extension": ".py",
   "mimetype": "text/x-python",
   "name": "python",
   "nbconvert_exporter": "python",
   "pygments_lexer": "ipython3",
   "version": "3.8.13"
  },
  "vscode": {
   "interpreter": {
    "hash": "55196daecc86aa857b57182df306699f685b97502ec08859874d96156c611e6a"
   }
  }
 },
 "nbformat": 4,
 "nbformat_minor": 5
}
