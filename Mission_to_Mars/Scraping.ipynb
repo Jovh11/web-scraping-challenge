{
 "cells": [
  {
   "cell_type": "code",
   "execution_count": 23,
   "id": "f9eeb22c",
   "metadata": {},
   "outputs": [],
   "source": [
    "from splinter import Browser\n",
    "from bs4 import BeautifulSoup as bs\n",
    "from webdriver_manager.chrome import ChromeDriverManager\n",
    "import pandas as pd"
   ]
  },
  {
   "cell_type": "code",
   "execution_count": 9,
   "id": "5d891ebe",
   "metadata": {},
   "outputs": [],
   "source": [
    "def scrape():\n",
    "    executable_path = {'executable_path': ChromeDriverManager().install()}\n",
    "    browser = Browser('chrome', **executable_path, headless=False)\n",
    "    url = \"https://redplanetscience.com/\"\n",
    "    browser.visit(url)\n",
    "    html = browser.html\n",
    "    soup = bs(html, \"html.parser\")\n",
    "    first_title = soup.find('div', class_='content_title').text\n",
    "    first_paragraph = soup.find('div', class_='article_teaser_body').text\n",
    "    browser.quit()\n",
    "    return first_title, first_paragraph"
   ]
  },
  {
   "cell_type": "code",
   "execution_count": 5,
   "id": "b2860615",
   "metadata": {},
   "outputs": [
    {
     "data": {
      "text/plain": [
       "(<div class=\"content_title\">NASA's Mars 2020 Rover Goes Coast-to-Coast to Prep for Launch</div>,\n",
       " <div class=\"article_teaser_body\">The agency's first step in returning rocks from Mars just arrived at Kennedy Space Center. The Mars 2020 team now begins readying for a launch to the Red Planet this July.</div>)"
      ]
     },
     "execution_count": 5,
     "metadata": {},
     "output_type": "execute_result"
    }
   ],
   "source": [
    "scrape()"
   ]
  },
  {
   "cell_type": "code",
   "execution_count": 10,
   "id": "4a36d923",
   "metadata": {},
   "outputs": [],
   "source": [
    "title, paragraph = scrape()"
   ]
  },
  {
   "cell_type": "code",
   "execution_count": 11,
   "id": "81ebe7e3",
   "metadata": {},
   "outputs": [
    {
     "data": {
      "text/plain": [
       "\"NASA's Treasure Map for Water Ice on Mars\""
      ]
     },
     "execution_count": 11,
     "metadata": {},
     "output_type": "execute_result"
    }
   ],
   "source": [
    "title"
   ]
  },
  {
   "cell_type": "code",
   "execution_count": 12,
   "id": "84cbcfbb",
   "metadata": {},
   "outputs": [
    {
     "data": {
      "text/plain": [
       "'A new study identifies frozen water just below the Martian surface, where astronauts could easily dig it up.'"
      ]
     },
     "execution_count": 12,
     "metadata": {},
     "output_type": "execute_result"
    }
   ],
   "source": [
    "paragraph"
   ]
  },
  {
   "cell_type": "code",
   "execution_count": 21,
   "id": "2e6cb993",
   "metadata": {},
   "outputs": [],
   "source": [
    "def scrape_image():\n",
    "    executable_path = {'executable_path': ChromeDriverManager().install()}\n",
    "    browser = Browser('chrome', **executable_path, headless=False)\n",
    "    url = \"https://spaceimages-mars.com/\"\n",
    "    browser.visit(url)\n",
    "    html = browser.html\n",
    "    soup = bs(html, \"html.parser\")\n",
    "    img = soup.find('img', class_='headerimage fade-in')['src']\n",
    "    browser.quit()\n",
    "    img_url = url + img\n",
    "    return img_url"
   ]
  },
  {
   "cell_type": "code",
   "execution_count": 22,
   "id": "cbeac7ff",
   "metadata": {},
   "outputs": [
    {
     "data": {
      "text/plain": [
       "'https://spaceimages-mars.com/image/featured/mars1.jpg'"
      ]
     },
     "execution_count": 22,
     "metadata": {},
     "output_type": "execute_result"
    }
   ],
   "source": [
    "img_url = scrape_image()\n",
    "img_url"
   ]
  },
  {
   "cell_type": "code",
   "execution_count": 24,
   "id": "907283a7",
   "metadata": {},
   "outputs": [],
   "source": [
    "tables = pd.read_html('https://galaxyfacts-mars.com')"
   ]
  },
  {
   "cell_type": "code",
   "execution_count": 121,
   "id": "c6b0d07e",
   "metadata": {},
   "outputs": [
    {
     "data": {
      "text/plain": [
       "'<table border=\"1\" class=\"dataframe\">\\n  <thead>\\n    <tr style=\"text-align: right;\">\\n      <th></th>\\n      <th>0</th>\\n      <th>1</th>\\n      <th>2</th>\\n    </tr>\\n  </thead>\\n  <tbody>\\n    <tr>\\n      <th>0</th>\\n      <td>Mars - Earth Comparison</td>\\n      <td>Mars</td>\\n      <td>Earth</td>\\n    </tr>\\n    <tr>\\n      <th>1</th>\\n      <td>Diameter:</td>\\n      <td>6,779 km</td>\\n      <td>12,742 km</td>\\n    </tr>\\n    <tr>\\n      <th>2</th>\\n      <td>Mass:</td>\\n      <td>6.39 × 10^23 kg</td>\\n      <td>5.97 × 10^24 kg</td>\\n    </tr>\\n    <tr>\\n      <th>3</th>\\n      <td>Moons:</td>\\n      <td>2</td>\\n      <td>1</td>\\n    </tr>\\n    <tr>\\n      <th>4</th>\\n      <td>Distance from Sun:</td>\\n      <td>227,943,824 km</td>\\n      <td>149,598,262 km</td>\\n    </tr>\\n    <tr>\\n      <th>5</th>\\n      <td>Length of Year:</td>\\n      <td>687 Earth days</td>\\n      <td>365.24 days</td>\\n    </tr>\\n    <tr>\\n      <th>6</th>\\n      <td>Temperature:</td>\\n      <td>-87 to -5 °C</td>\\n      <td>-88 to 58°C</td>\\n    </tr>\\n  </tbody>\\n</table>'"
      ]
     },
     "execution_count": 121,
     "metadata": {},
     "output_type": "execute_result"
    }
   ],
   "source": [
    "desired_table = tables[0]\n",
    "html = desired_table.to_html()\n",
    "html"
   ]
  },
  {
   "cell_type": "code",
   "execution_count": 115,
   "id": "a20488a0",
   "metadata": {},
   "outputs": [],
   "source": [
    "def scrape_hemispheres(hemisphere):\n",
    "    executable_path = {'executable_path': ChromeDriverManager().install()}\n",
    "    browser = Browser('chrome', **executable_path, headless=False)\n",
    "    base_url = \"https://marshemispheres.com/\"\n",
    "    url = base_url+hemisphere\n",
    "    browser.visit(url)\n",
    "    html = browser.html\n",
    "    soup = bs(html, \"html.parser\")\n",
    "    images = soup.find_all('a')\n",
    "    img = ''\n",
    "    for info in images:\n",
    "        if info.text == 'Original':\n",
    "            img = info['href']\n",
    "    text = soup.find('div', class_='cover')\n",
    "    desired_text = text.h2.text\n",
    "    title_text = desired_text.split()\n",
    "    title = title_text[0]\n",
    "    img_url = base_url + img\n",
    "    browser.quit()\n",
    "    return title, img_url"
   ]
  },
  {
   "cell_type": "code",
   "execution_count": 119,
   "id": "6e772da0",
   "metadata": {},
   "outputs": [],
   "source": [
    "url_list = ['cerberus.html', 'schiaparelli.html', 'syrtis.html','valles.html']\n",
    "all_images = {}\n",
    "for url in url_list:\n",
    "    title, img_url = scrape_hemispheres(url)\n",
    "    all_images[title] = img_url"
   ]
  },
  {
   "cell_type": "code",
   "execution_count": 120,
   "id": "df992697",
   "metadata": {},
   "outputs": [
    {
     "data": {
      "text/plain": [
       "{'Cerberus': 'https://marshemispheres.com/images/cerberus_enhanced.tif',\n",
       " 'Schiaparelli': 'https://marshemispheres.com/images/schiaparelli_enhanced.tif',\n",
       " 'Syrtis': 'https://marshemispheres.com/images/syrtis_major_enhanced.tif',\n",
       " 'Valles': 'https://marshemispheres.com/images/valles_marineris_enhanced.tif'}"
      ]
     },
     "execution_count": 120,
     "metadata": {},
     "output_type": "execute_result"
    }
   ],
   "source": [
    "all_images"
   ]
  },
  {
   "cell_type": "code",
   "execution_count": null,
   "id": "5fe87609",
   "metadata": {},
   "outputs": [],
   "source": []
  }
 ],
 "metadata": {
  "kernelspec": {
   "display_name": "Python 3.9.7",
   "language": "python",
   "name": "python3"
  },
  "language_info": {
   "codemirror_mode": {
    "name": "ipython",
    "version": 3
   },
   "file_extension": ".py",
   "mimetype": "text/x-python",
   "name": "python",
   "nbconvert_exporter": "python",
   "pygments_lexer": "ipython3",
   "version": "3.9.7"
  },
  "vscode": {
   "interpreter": {
    "hash": "55196daecc86aa857b57182df306699f685b97502ec08859874d96156c611e6a"
   }
  }
 },
 "nbformat": 4,
 "nbformat_minor": 5
}
